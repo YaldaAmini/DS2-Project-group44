{
 "cells": [
  {
   "cell_type": "code",
   "execution_count": 1,
   "metadata": {},
   "outputs": [],
   "source": [
    "import tweepy # twitter's Python API\n",
    "import pandas as pd\n",
    "import json\n",
    "import matplotlib.pyplot as plt\n",
    "import csv"
   ]
  },
  {
   "cell_type": "code",
   "execution_count": 2,
   "metadata": {},
   "outputs": [],
   "source": [
    "consumer_key = ''\n",
    "consumer_secret = ''\n",
    "access_token = ''\n",
    "access_token_secret = ''\n"
   ]
  },
  {
   "cell_type": "code",
   "execution_count": 211,
   "metadata": {},
   "outputs": [],
   "source": [
    "def get_api(screen_name,count):\n",
    "    '''\n",
    "        Downloaing all of the tweets from a wellknown bots\n",
    "        for last 7 days\n",
    "    '''\n",
    "    # defining twitter developer access\n",
    "    auth = tweepy.OAuthHandler(consumer_key, consumer_secret)\n",
    "    auth.set_access_token(access_token, access_token_secret)\n",
    "\n",
    "    api = tweepy.API(auth, wait_on_rate_limit=True, wait_on_rate_limit_notify=True)\n",
    "\n",
    "    tweets = []\n",
    "    latest_tweets = api.user_timeline(screen_name = screen_name, count = count)\n",
    "    tweets.extend(latest_tweets)\n",
    "    return tweets"
   ]
  },
  {
   "cell_type": "code",
   "execution_count": 163,
   "metadata": {},
   "outputs": [],
   "source": [
    "def store_tweets(tweets,file_name='data/tweets.json'):\n",
    "    \n",
    "    features = ['created_at', 'id', 'text',  'source','in_reply_to_status_id',  'geo', \n",
    "             'retweet_count', 'favorite_count', 'favorited', 'lang']\n",
    "    sub_tags = ['entities', 'user', 'place']\n",
    "    \n",
    "    entities_tag = ['hashtags', 'urls']\n",
    "    \n",
    "    user_tag = ['id', 'name', 'screen_name', 'location', 'url','protected', 'followers_count', 'friends_count',\n",
    "                'created_at', 'geo_enabled', 'verified', 'lang']\n",
    "    \n",
    "    place_tag = ['id', 'place_type', 'name', 'country_code']\n",
    "\n",
    "    \n",
    "    # a list of all formatted tweets\n",
    "    tweet_list=[]\n",
    "\n",
    "    for tweet in tweets:\n",
    "\n",
    "        # a dict to contain information about single tweet\n",
    "        tweet_information=dict()\n",
    "        \n",
    "        for feat in features:\n",
    "            if (feat == 'created_at'):\n",
    "                tweet_information['created_at']=tweet.created_at.strftime(\"%Y-%m-%d %H:%M:%S\")\n",
    "            else:\n",
    "                tweet_information[feat]=tweet._json[feat]\n",
    "        for s_tag in sub_tags:\n",
    "            if (s_tag == 'entities'):\n",
    "                for s_t in entities_tag:\n",
    "                    tweet_information[s_t]=tweet._json['entities'][s_t]\n",
    "                \n",
    "            elif (s_tag == 'user'):\n",
    "                for s_t in user_tag:\n",
    "                    tweet_information[s_t]=tweet._json['user'][s_t]\n",
    "            \n",
    "            elif (s_tag == 'place'):\n",
    "                for s_t in place_tag:\n",
    "                    if (tweet._json['place']!= None):\n",
    "                        tweet_information[s_t]=tweet._json['place'][s_t] \n",
    "                    else:\n",
    "                        tweet_information[s_t]= None\n",
    "    \n",
    "\n",
    "        # add this tweet to the tweet_list\n",
    "        tweet_list.append(tweet_information)\n",
    "    #Save dictionary into json file\n",
    "    with open(file_name,\"w\") as fd:\n",
    "        json.dump( tweet_list, fd)\n",
    "\n",
    "    # close the file_des\n",
    "    fd.close()\n",
    "    return tweet_list"
   ]
  },
  {
   "cell_type": "code",
   "execution_count": 131,
   "metadata": {},
   "outputs": [],
   "source": [
    "def fetch_tweets(screen_names, count):\n",
    "\n",
    "    # initialize the list to hold all tweets from all users\n",
    "    alltweets=[]\n",
    "\n",
    "    # get all tweets for each screen name\n",
    "    for  screen_name in screen_names:\n",
    "        alltweets.extend(get_api(screen_name,count=count))\n",
    "\n",
    "    return alltweets\n"
   ]
  },
  {
   "cell_type": "code",
   "execution_count": 204,
   "metadata": {},
   "outputs": [],
   "source": [
    "count = 100\n",
    "screen_names = ['@_grammar_','@attention_cnn','@NYT4thDownBot','@oliviataters','@DearAssistant','@a_quilt_bot',\n",
    "                '@reverseocr', '@accidental575','@JustToSayBot','@FavThingsBot','@portmanteau_bot','@BloombrgNewsish',\n",
    "                '@AwlTags',\n",
    "                '@TinyCareBot','@simpscreens','@censusAmericans',' @everycolorbot','@pentametron','@AutoCharts',\n",
    "                '@big_ben_clock', ' @everycolorbot','@RealHumanPraise','@wayback_exe'\n",
    "               ] #,,'@pixelsorter'\n",
    "\n",
    "tweets = fetch_tweets(screen_names,count)"
   ]
  },
  {
   "cell_type": "code",
   "execution_count": 205,
   "metadata": {},
   "outputs": [],
   "source": [
    "# Saving to json file\n",
    "tweet_list = store_tweets(tweets,file_name='data/tweets.json')\n"
   ]
  },
  {
   "cell_type": "code",
   "execution_count": 206,
   "metadata": {},
   "outputs": [],
   "source": [
    "#reading json files including tweets dictionaries\n",
    "with open('data/tweets.json', \"r\") as fd:\n",
    "    tweets1 = json.load(fd)\n",
    "\n"
   ]
  },
  {
   "cell_type": "code",
   "execution_count": 207,
   "metadata": {
    "scrolled": false
   },
   "outputs": [
    {
     "data": {
      "text/plain": [
       "2287"
      ]
     },
     "execution_count": 207,
     "metadata": {},
     "output_type": "execute_result"
    }
   ],
   "source": [
    "len(tweets1)"
   ]
  },
  {
   "cell_type": "markdown",
   "metadata": {},
   "source": [
    "---"
   ]
  },
  {
   "cell_type": "code",
   "execution_count": 208,
   "metadata": {},
   "outputs": [],
   "source": [
    "df = pd.DataFrame(tweets1)\n",
    "df.to_csv('data/bot.csv')"
   ]
  },
  {
   "cell_type": "code",
   "execution_count": 209,
   "metadata": {},
   "outputs": [
    {
     "data": {
      "text/html": [
       "<div>\n",
       "<style scoped>\n",
       "    .dataframe tbody tr th:only-of-type {\n",
       "        vertical-align: middle;\n",
       "    }\n",
       "\n",
       "    .dataframe tbody tr th {\n",
       "        vertical-align: top;\n",
       "    }\n",
       "\n",
       "    .dataframe thead th {\n",
       "        text-align: right;\n",
       "    }\n",
       "</style>\n",
       "<table border=\"1\" class=\"dataframe\">\n",
       "  <thead>\n",
       "    <tr style=\"text-align: right;\">\n",
       "      <th></th>\n",
       "      <th>country_code</th>\n",
       "      <th>created_at</th>\n",
       "      <th>favorite_count</th>\n",
       "      <th>favorited</th>\n",
       "      <th>followers_count</th>\n",
       "      <th>friends_count</th>\n",
       "      <th>geo</th>\n",
       "      <th>geo_enabled</th>\n",
       "      <th>hashtags</th>\n",
       "      <th>id</th>\n",
       "      <th>...</th>\n",
       "      <th>name</th>\n",
       "      <th>place_type</th>\n",
       "      <th>protected</th>\n",
       "      <th>retweet_count</th>\n",
       "      <th>screen_name</th>\n",
       "      <th>source</th>\n",
       "      <th>text</th>\n",
       "      <th>url</th>\n",
       "      <th>urls</th>\n",
       "      <th>verified</th>\n",
       "    </tr>\n",
       "  </thead>\n",
       "  <tbody>\n",
       "    <tr>\n",
       "      <th>0</th>\n",
       "      <td>AQ</td>\n",
       "      <td>Mon Jun 25 16:06:39 +0000 2012</td>\n",
       "      <td>2</td>\n",
       "      <td>False</td>\n",
       "      <td>45802</td>\n",
       "      <td>2</td>\n",
       "      <td>{'type': 'Point', 'coordinates': [-89.09786011...</td>\n",
       "      <td>True</td>\n",
       "      <td>[]</td>\n",
       "      <td>4d25f30d2fbf1463</td>\n",
       "      <td>...</td>\n",
       "      <td>Antarctica</td>\n",
       "      <td>country</td>\n",
       "      <td>False</td>\n",
       "      <td>0</td>\n",
       "      <td>_grammar_</td>\n",
       "      <td>&lt;a href=\"https://twitter.com/Your_Grammar\" rel...</td>\n",
       "      <td>I declare this message by you, @sprintcare, un...</td>\n",
       "      <td>http://t.co/y2OxdNwM0Y</td>\n",
       "      <td>[{'url': 'https://t.co/YN2ntm6tBp', 'expanded_...</td>\n",
       "      <td>False</td>\n",
       "    </tr>\n",
       "    <tr>\n",
       "      <th>1</th>\n",
       "      <td>None</td>\n",
       "      <td>Mon Jun 25 16:06:39 +0000 2012</td>\n",
       "      <td>0</td>\n",
       "      <td>False</td>\n",
       "      <td>45802</td>\n",
       "      <td>2</td>\n",
       "      <td>{'type': 'Point', 'coordinates': [-57.40262096...</td>\n",
       "      <td>True</td>\n",
       "      <td>[]</td>\n",
       "      <td>None</td>\n",
       "      <td>...</td>\n",
       "      <td>None</td>\n",
       "      <td>None</td>\n",
       "      <td>False</td>\n",
       "      <td>0</td>\n",
       "      <td>_grammar_</td>\n",
       "      <td>&lt;a href=\"https://twitter.com/Your_Grammar\" rel...</td>\n",
       "      <td>It was possible for you, @BoxeoMundial, to hav...</td>\n",
       "      <td>http://t.co/y2OxdNwM0Y</td>\n",
       "      <td>[]</td>\n",
       "      <td>False</td>\n",
       "    </tr>\n",
       "    <tr>\n",
       "      <th>2</th>\n",
       "      <td>None</td>\n",
       "      <td>Mon Jun 25 16:06:39 +0000 2012</td>\n",
       "      <td>4</td>\n",
       "      <td>False</td>\n",
       "      <td>45802</td>\n",
       "      <td>2</td>\n",
       "      <td>{'type': 'Point', 'coordinates': [-59.7565709,...</td>\n",
       "      <td>True</td>\n",
       "      <td>[]</td>\n",
       "      <td>None</td>\n",
       "      <td>...</td>\n",
       "      <td>None</td>\n",
       "      <td>None</td>\n",
       "      <td>False</td>\n",
       "      <td>0</td>\n",
       "      <td>_grammar_</td>\n",
       "      <td>&lt;a href=\"https://twitter.com/Your_Grammar\" rel...</td>\n",
       "      <td>I insist that it would have been better if you...</td>\n",
       "      <td>http://t.co/y2OxdNwM0Y</td>\n",
       "      <td>[{'url': 'https://t.co/I4TBAoxzw3', 'expanded_...</td>\n",
       "      <td>False</td>\n",
       "    </tr>\n",
       "    <tr>\n",
       "      <th>3</th>\n",
       "      <td>None</td>\n",
       "      <td>Mon Jun 25 16:06:39 +0000 2012</td>\n",
       "      <td>1</td>\n",
       "      <td>False</td>\n",
       "      <td>45802</td>\n",
       "      <td>2</td>\n",
       "      <td>{'type': 'Point', 'coordinates': [57.07041009,...</td>\n",
       "      <td>True</td>\n",
       "      <td>[]</td>\n",
       "      <td>None</td>\n",
       "      <td>...</td>\n",
       "      <td>None</td>\n",
       "      <td>None</td>\n",
       "      <td>False</td>\n",
       "      <td>0</td>\n",
       "      <td>_grammar_</td>\n",
       "      <td>&lt;a href=\"https://twitter.com/Your_Grammar\" rel...</td>\n",
       "      <td>I discovered @Bmac0507 ought to type “Marvel [...</td>\n",
       "      <td>http://t.co/y2OxdNwM0Y</td>\n",
       "      <td>[]</td>\n",
       "      <td>False</td>\n",
       "    </tr>\n",
       "    <tr>\n",
       "      <th>4</th>\n",
       "      <td>None</td>\n",
       "      <td>Mon Jun 25 16:06:39 +0000 2012</td>\n",
       "      <td>6</td>\n",
       "      <td>False</td>\n",
       "      <td>45802</td>\n",
       "      <td>2</td>\n",
       "      <td>{'type': 'Point', 'coordinates': [27.58900536,...</td>\n",
       "      <td>True</td>\n",
       "      <td>[]</td>\n",
       "      <td>None</td>\n",
       "      <td>...</td>\n",
       "      <td>None</td>\n",
       "      <td>None</td>\n",
       "      <td>False</td>\n",
       "      <td>0</td>\n",
       "      <td>_grammar_</td>\n",
       "      <td>&lt;a href=\"https://twitter.com/Your_Grammar\" rel...</td>\n",
       "      <td>I consider this update by you, @EwanMacKenna, ...</td>\n",
       "      <td>http://t.co/y2OxdNwM0Y</td>\n",
       "      <td>[{'url': 'https://t.co/bEN4JKvwsa', 'expanded_...</td>\n",
       "      <td>False</td>\n",
       "    </tr>\n",
       "  </tbody>\n",
       "</table>\n",
       "<p>5 rows × 23 columns</p>\n",
       "</div>"
      ],
      "text/plain": [
       "  country_code                      created_at  favorite_count  favorited  \\\n",
       "0           AQ  Mon Jun 25 16:06:39 +0000 2012               2      False   \n",
       "1         None  Mon Jun 25 16:06:39 +0000 2012               0      False   \n",
       "2         None  Mon Jun 25 16:06:39 +0000 2012               4      False   \n",
       "3         None  Mon Jun 25 16:06:39 +0000 2012               1      False   \n",
       "4         None  Mon Jun 25 16:06:39 +0000 2012               6      False   \n",
       "\n",
       "   followers_count  friends_count  \\\n",
       "0            45802              2   \n",
       "1            45802              2   \n",
       "2            45802              2   \n",
       "3            45802              2   \n",
       "4            45802              2   \n",
       "\n",
       "                                                 geo  geo_enabled hashtags  \\\n",
       "0  {'type': 'Point', 'coordinates': [-89.09786011...         True       []   \n",
       "1  {'type': 'Point', 'coordinates': [-57.40262096...         True       []   \n",
       "2  {'type': 'Point', 'coordinates': [-59.7565709,...         True       []   \n",
       "3  {'type': 'Point', 'coordinates': [57.07041009,...         True       []   \n",
       "4  {'type': 'Point', 'coordinates': [27.58900536,...         True       []   \n",
       "\n",
       "                 id   ...           name place_type protected retweet_count  \\\n",
       "0  4d25f30d2fbf1463   ...     Antarctica    country     False             0   \n",
       "1              None   ...           None       None     False             0   \n",
       "2              None   ...           None       None     False             0   \n",
       "3              None   ...           None       None     False             0   \n",
       "4              None   ...           None       None     False             0   \n",
       "\n",
       "  screen_name                                             source  \\\n",
       "0   _grammar_  <a href=\"https://twitter.com/Your_Grammar\" rel...   \n",
       "1   _grammar_  <a href=\"https://twitter.com/Your_Grammar\" rel...   \n",
       "2   _grammar_  <a href=\"https://twitter.com/Your_Grammar\" rel...   \n",
       "3   _grammar_  <a href=\"https://twitter.com/Your_Grammar\" rel...   \n",
       "4   _grammar_  <a href=\"https://twitter.com/Your_Grammar\" rel...   \n",
       "\n",
       "                                                text                     url  \\\n",
       "0  I declare this message by you, @sprintcare, un...  http://t.co/y2OxdNwM0Y   \n",
       "1  It was possible for you, @BoxeoMundial, to hav...  http://t.co/y2OxdNwM0Y   \n",
       "2  I insist that it would have been better if you...  http://t.co/y2OxdNwM0Y   \n",
       "3  I discovered @Bmac0507 ought to type “Marvel [...  http://t.co/y2OxdNwM0Y   \n",
       "4  I consider this update by you, @EwanMacKenna, ...  http://t.co/y2OxdNwM0Y   \n",
       "\n",
       "                                                urls verified  \n",
       "0  [{'url': 'https://t.co/YN2ntm6tBp', 'expanded_...    False  \n",
       "1                                                 []    False  \n",
       "2  [{'url': 'https://t.co/I4TBAoxzw3', 'expanded_...    False  \n",
       "3                                                 []    False  \n",
       "4  [{'url': 'https://t.co/bEN4JKvwsa', 'expanded_...    False  \n",
       "\n",
       "[5 rows x 23 columns]"
      ]
     },
     "execution_count": 209,
     "metadata": {},
     "output_type": "execute_result"
    }
   ],
   "source": [
    "df.head()"
   ]
  },
  {
   "cell_type": "code",
   "execution_count": 186,
   "metadata": {},
   "outputs": [
    {
     "data": {
      "text/plain": [
       "Index(['favorite_count', 'followers_count', 'friends_count',\n",
       "       'in_reply_to_status_id', 'retweet_count'],\n",
       "      dtype='object')"
      ]
     },
     "execution_count": 186,
     "metadata": {},
     "output_type": "execute_result"
    }
   ],
   "source": [
    "df.describe().columns"
   ]
  },
  {
   "cell_type": "code",
   "execution_count": 194,
   "metadata": {
    "scrolled": false
   },
   "outputs": [
    {
     "data": {
      "image/png": "[encoded data removed]",
      "text/plain": [
       "<Figure size 864x864 with 6 Axes>"
      ]
     },
     "metadata": {
      "needs_background": "light"
     },
     "output_type": "display_data"
    }
   ],
   "source": [
    "df1 = df[['favorite_count', 'followers_count', 'friends_count',\n",
    "       'in_reply_to_status_id', 'retweet_count']]\n",
    "df1.hist(figsize=(12,12));"
   ]
  },
  {
   "cell_type": "code",
   "execution_count": 197,
   "metadata": {},
   "outputs": [],
   "source": [
    "df_real = pd.read_csv('data/top_100.csv')"
   ]
  },
  {
   "cell_type": "code",
   "execution_count": 1,
   "metadata": {},
   "outputs": [],
   "source": [
    "# real_tweets = fetch_tweets(df_real.id,count=10)"
   ]
  }
 ],
 "metadata": {
  "kernelspec": {
   "display_name": "Python 3",
   "language": "python",
   "name": "python3"
  },
  "language_info": {
   "codemirror_mode": {
    "name": "ipython",
    "version": 3
   },
   "file_extension": ".py",
   "mimetype": "text/x-python",
   "name": "python",
   "nbconvert_exporter": "python",
   "pygments_lexer": "ipython3",
   "version": "3.7.1"
  }
 },
 "nbformat": 4,
 "nbformat_minor": 2
}

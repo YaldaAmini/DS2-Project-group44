{
 "cells": [
  {
   "cell_type": "code",
   "execution_count": 85,
   "metadata": {},
   "outputs": [],
   "source": [
    "import pandas as pd\n",
    "import numpy as np"
   ]
  },
  {
   "cell_type": "markdown",
   "metadata": {},
   "source": [
    "Read the data for users in the first file, to create the dataframe"
   ]
  },
  {
   "cell_type": "code",
   "execution_count": 86,
   "metadata": {
    "scrolled": true
   },
   "outputs": [
    {
     "data": {
      "text/plain": [
       "(3351, 38)"
      ]
     },
     "execution_count": 86,
     "metadata": {},
     "output_type": "execute_result"
    }
   ],
   "source": [
    "df_users = pd.read_csv(\"data/datasets_full/fake_followers/users.csv\")\n",
    "df_users.head()\n",
    "df_users.shape"
   ]
  },
  {
   "cell_type": "markdown",
   "metadata": {},
   "source": [
    "Create list of all the other files from which I want to read user's data. Then append data from each of these files into the dataframe created above. "
   ]
  },
  {
   "cell_type": "code",
   "execution_count": 87,
   "metadata": {},
   "outputs": [],
   "source": [
    "user_files = [\"genuine_accounts\", \"social_spambots_1\", \"social_spambots_2\", \"social_spambots_3\", \n",
    "              \"traditional_spambots_1\", \"traditional_spambots_2\", \"traditional_spambots_3\", \"traditional_spambots_4\"]"
   ]
  },
  {
   "cell_type": "code",
   "execution_count": 90,
   "metadata": {
    "scrolled": true
   },
   "outputs": [],
   "source": [
    "for i in user_files:\n",
    "    df_temp = pd.read_csv(\"data/datasets_full/\" + i + \"/users.csv\")\n",
    "#     print (i, df_temp.shape)\n",
    "    df_users = df_users.append(df_temp, ignore_index=True)\n",
    "#     print (df_users.shape)\n",
    "# print (df_users.shape)"
   ]
  },
  {
   "cell_type": "markdown",
   "metadata": {},
   "source": [
    "Exclude columns \"test_set_1\", \"test_set_2\", which are not useful to our work, and is not consistently present in all files"
   ]
  },
  {
   "cell_type": "code",
   "execution_count": 89,
   "metadata": {},
   "outputs": [
    {
     "data": {
      "text/plain": [
       "(14368, 40)"
      ]
     },
     "execution_count": 89,
     "metadata": {},
     "output_type": "execute_result"
    }
   ],
   "source": [
    "df_users = df_users.drop([\"test_set_1\", \"test_set_2\"], axis = 1)\n",
    "df_users.shape"
   ]
  }
 ],
 "metadata": {
  "kernelspec": {
   "display_name": "Python 3",
   "language": "python",
   "name": "python3"
  },
  "language_info": {
   "codemirror_mode": {
    "name": "ipython",
    "version": 3
   },
   "file_extension": ".py",
   "mimetype": "text/x-python",
   "name": "python",
   "nbconvert_exporter": "python",
   "pygments_lexer": "ipython3",
   "version": "3.6.8"
  }
 },
 "nbformat": 4,
 "nbformat_minor": 2
}
